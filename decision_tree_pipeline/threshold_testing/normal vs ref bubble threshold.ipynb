{
 "cells": [
  {
   "cell_type": "code",
   "execution_count": 1,
   "id": "81bd055f",
   "metadata": {},
   "outputs": [],
   "source": [
    "# import packages\n",
    "import numpy as np\n",
    "import pandas as pd\n",
    "import matplotlib.pyplot as plt\n",
    "import math\n",
    "import statistics\n",
    "from time import time\n",
    "from decimal import Decimal\n",
    "from scipy.signal import find_peaks\n",
    "from scipy.optimize import curve_fit"
   ]
  },
  {
   "cell_type": "markdown",
   "id": "b2fb8ae3",
   "metadata": {},
   "source": [
    "# Import training data - FG only"
   ]
  },
  {
   "cell_type": "code",
   "execution_count": 2,
   "id": "62cb757b",
   "metadata": {},
   "outputs": [
    {
     "name": "stdout",
     "output_type": "stream",
     "text": [
      "Done in 152.636s\n"
     ]
    }
   ],
   "source": [
    "### normal\n",
    "tic = time()\n",
    "\n",
    "n_signals = pd.read_excel('./Training/FG_normal/FG_normal_ATData.xlsx')\n",
    "n_bubble_detect = pd.read_excel('./Training/FG_normal/FG_normal_BubbleDetectTime.xlsx')\n",
    "\n",
    "toc = time()\n",
    "print(f\"Done in {toc - tic:.3f}s\")"
   ]
  },
  {
   "cell_type": "code",
   "execution_count": 3,
   "id": "a196679e",
   "metadata": {},
   "outputs": [
    {
     "name": "stdout",
     "output_type": "stream",
     "text": [
      "Done in 4.880s\n"
     ]
    }
   ],
   "source": [
    "### ref bubbles\n",
    "tic = time()\n",
    "\n",
    "rb_signals = pd.read_excel('./Training/FG_bubbles/FG_ref_bubbles_ATData.xlsx')\n",
    "rb_bubble_detect = pd.read_excel('./Training/FG_bubbles/FG_ref_bubbles_BubbleDetectTime.xlsx')\n",
    "\n",
    "toc = time()\n",
    "print(f\"Done in {toc - tic:.3f}s\")"
   ]
  },
  {
   "cell_type": "markdown",
   "id": "1c26c124",
   "metadata": {},
   "source": [
    "# Create test objects and dataframe"
   ]
  },
  {
   "cell_type": "code",
   "execution_count": 4,
   "id": "456fe4d5",
   "metadata": {},
   "outputs": [],
   "source": [
    "class Test:\n",
    "    def __init__(self, ID, BubbleDetectTime, P4, P5, A4):\n",
    "        self.ID = ID\n",
    "        self.BubbleDetectTime = BubbleDetectTime\n",
    "        self.P4 = P4 # potassium\n",
    "        self.P5 = P5 # calcium\n",
    "        self.A4 = A4 # crea\n",
    "        \n",
    "    # function to offset t = 0\n",
    "    def offset_time(self):\n",
    "        # using Decimal due to rounding error\n",
    "        t_0 = Decimal(str(self.BubbleDetectTime + 30))\n",
    "        t_step = Decimal(str(0.2))\n",
    "        start_idx = round(t_0/t_step) - 1\n",
    "                \n",
    "        self.P4 = self.P4[start_idx:]\n",
    "        self.P5 = self.P5[start_idx:]\n",
    "        self.A4 = self.A4[start_idx:]\n",
    "        \n",
    "    # function to trim NaNs\n",
    "    def trim_NaNs(self):\n",
    "        # making sure list is not empty\n",
    "        while len(self.P4) > 0 and math.isnan(self.P4[-1]):\n",
    "            self.P4.pop()\n",
    "                \n",
    "        while len(self.P5) > 0 and math.isnan(self.P5[-1]):\n",
    "            self.P5.pop()\n",
    "        \n",
    "        while len(self.A4) > 0 and math.isnan(self.A4[-1]):\n",
    "            self.A4.pop()\n",
    "            \n",
    "\n",
    "def create_test_list(signals, bubble_detect_time):\n",
    "    # separating channels\n",
    "    group_channels = signals.groupby('Channel')\n",
    "    channel_dfs = {}\n",
    "\n",
    "    # iterating over the groups and creating a new dataframe for each group\n",
    "    for channel, group in group_channels:\n",
    "        df = pd.DataFrame(group.iloc[:, 2:])\n",
    "        channel_dfs[channel] = df\n",
    "\n",
    "    # creating test objects\n",
    "    tests = []\n",
    "    for i in range(0, len(bubble_detect_time)):\n",
    "        ID = bubble_detect_time.iloc[i, 0]\n",
    "        BubbleDetectTime = bubble_detect_time.iloc[i, 1]\n",
    "        P4 = channel_dfs['P4'].iloc[i, :].values.tolist()\n",
    "        P5 = channel_dfs['P5'].iloc[i, :].values.tolist()\n",
    "        A4 = channel_dfs['A4'].iloc[i, :].values.tolist()\n",
    "\n",
    "        new_test = Test(ID, BubbleDetectTime, P4, P5, A4)\n",
    "        tests.append(new_test)\n",
    "    \n",
    "    return tests"
   ]
  },
  {
   "cell_type": "code",
   "execution_count": 92,
   "id": "6cc2f092",
   "metadata": {},
   "outputs": [],
   "source": [
    "### making test objects for each test type\n",
    "labels = [\"Normal\", \"Ref bubble\"]\n",
    "signals = [n_signals, rb_signals]\n",
    "bubble_detect_times = [n_bubble_detect, rb_bubble_detect]\n",
    "\n",
    "test_dict = {}\n",
    "\n",
    "for label, signal, bubble_detect_time in zip(labels, signals, bubble_detect_times):\n",
    "    test_dict[label] = create_test_list(signal, bubble_detect_time)\n",
    "\n",
    "### offset and trim all tests\n",
    "for test_type in test_dict.values():\n",
    "    for idx, test in enumerate(test_type): \n",
    "        test.offset_time()\n",
    "        test.trim_NaNs()\n",
    "        \n",
    "n_tests = test_dict[\"Normal\"]\n",
    "rb_tests = test_dict[\"Ref bubble\"]"
   ]
  },
  {
   "cell_type": "code",
   "execution_count": 93,
   "id": "8c66490d",
   "metadata": {},
   "outputs": [
    {
     "name": "stdout",
     "output_type": "stream",
     "text": [
      "3128\n",
      "106\n"
     ]
    }
   ],
   "source": [
    "print(len(n_tests))\n",
    "print(len(rb_tests))"
   ]
  },
  {
   "cell_type": "markdown",
   "id": "5f093e4d",
   "metadata": {},
   "source": [
    "# Filtering for pipeline condition"
   ]
  },
  {
   "cell_type": "code",
   "execution_count": 7,
   "id": "3151d595",
   "metadata": {},
   "outputs": [],
   "source": [
    "def short_peaks(test, size):\n",
    "    if size == 0:\n",
    "        # checking for valleys\n",
    "        peaks_1, _ = find_peaks(-1 * np.array(test.P4))\n",
    "\n",
    "        # checking for peaks\n",
    "        peaks_2, _ = find_peaks(np.array(test.P4))\n",
    "\n",
    "        # merging valleys and peaks\n",
    "        peaks = np.concatenate((peaks_1, peaks_2))\n",
    "\n",
    "        if len(peaks) >= 80:  # normal\n",
    "            return 1\n",
    "        else:  # undetermined\n",
    "            return 0\n",
    "\n",
    "    elif size == 10:\n",
    "        # checking for valleys\n",
    "        peaks_1, _ = find_peaks(-1 * np.array(test.P4), width=size)\n",
    "\n",
    "        # checking for peaks\n",
    "        peaks_2, _ = find_peaks(np.array(test.P4), width=size)\n",
    "\n",
    "        # merging valleys and peaks\n",
    "        peaks = np.concatenate((peaks_1, peaks_2))\n",
    "\n",
    "        if len(peaks) >= 3:  # ref bubble\n",
    "            return 1\n",
    "        else:  # undetermined\n",
    "            return 0"
   ]
  },
  {
   "cell_type": "code",
   "execution_count": 94,
   "id": "2a546eb1",
   "metadata": {},
   "outputs": [
    {
     "name": "stdout",
     "output_type": "stream",
     "text": [
      "1918\n",
      "37\n",
      "1918\n",
      "37\n"
     ]
    }
   ],
   "source": [
    "# finding peaks in normal and ref bubbles\n",
    "labels = ['Normal', 'Ref bubble']\n",
    "tests = {'Normal': n_tests, 'Ref bubble': rb_tests} # dict of test objects\n",
    "targets = {'Normal': [], 'Ref bubble': []} # dict of tests that are accepted under pipeline condition\n",
    "\n",
    "# filtering\n",
    "for label in labels:\n",
    "    for idx, test in enumerate(tests[label]):\n",
    "        if (short_peaks(test, 0) == 0) & (short_peaks(test, 10) == 0):\n",
    "            targets[label].append(tests[label][idx]) # append test object not idx\n",
    "        \n",
    "print(len(targets['Normal']))\n",
    "print(len(targets['Ref bubble']))\n",
    "\n",
    "for label in labels:\n",
    "    tests[label] = [test for test in tests[label] if test in targets[label]]\n",
    "    \n",
    "print(len(tests['Normal']))\n",
    "print(len(tests['Ref bubble']))"
   ]
  },
  {
   "cell_type": "code",
   "execution_count": 95,
   "id": "6b959866",
   "metadata": {},
   "outputs": [],
   "source": [
    "### labelling tests\n",
    "\n",
    "# creating new dataframes with class for each test - note: this makes the value type np.int32\n",
    "n_df = pd.DataFrame({'Test': tests['Normal'], 'Class': np.repeat(0, len(tests['Normal'])), 'Predicted': ''})\n",
    "rb_df = pd.DataFrame({'Test': tests['Ref bubble'], 'Class': np.repeat(1, len(tests['Ref bubble'])), 'Predicted': ''})\n",
    "\n",
    "# concatenating\n",
    "test_df = pd.concat([n_df, rb_df]).reset_index(drop=True)"
   ]
  },
  {
   "cell_type": "code",
   "execution_count": 84,
   "id": "219dc69d",
   "metadata": {},
   "outputs": [
    {
     "name": "stdout",
     "output_type": "stream",
     "text": [
      "1918\n",
      "37\n"
     ]
    }
   ],
   "source": [
    "print(len(test_df[test_df['Class'] == 0]))\n",
    "print(len(test_df[test_df['Class'] == 1]))"
   ]
  },
  {
   "cell_type": "markdown",
   "id": "76e3c4ad",
   "metadata": {},
   "source": [
    "# Function fitting functions - BULK TESTS"
   ]
  },
  {
   "cell_type": "code",
   "execution_count": 96,
   "id": "b4b3812b",
   "metadata": {},
   "outputs": [],
   "source": [
    "# define the linear function to fit\n",
    "def lin_func(x, a, b):\n",
    "    return a*x + b\n",
    "\n",
    "\n",
    "# fit data to linear curve for one test\n",
    "def fit_lin(idx, tests):\n",
    "    y = tests[idx].P4\n",
    "\n",
    "    start_time = 0.2\n",
    "    end_time = 0.2*len(y)\n",
    "    num_steps = round((end_time - start_time)/0.2) + 1\n",
    "\n",
    "    x = np.linspace(start_time, end_time, num_steps)\n",
    "\n",
    "    # perform the curve fit\n",
    "    popt, _ = curve_fit(lin_func, x, y)\n",
    "    y_fit = lin_func(x, *popt) # unpacks tuple into the 2 coefficients rather than passing an array\n",
    "\n",
    "    return x, y, y_fit, popt\n",
    "    \n",
    "    \n",
    "def compute_residuals(y, y_fit):\n",
    "    residuals = y - y_fit\n",
    "    \n",
    "    ss_res = np.sum(residuals**2)\n",
    "    ss_tot = np.sum((y - np.mean(y))**2)\n",
    "    r_squared = 1 - (ss_res / ss_tot)\n",
    "        \n",
    "    return r_squared"
   ]
  },
  {
   "cell_type": "markdown",
   "id": "cb0d8ffa",
   "metadata": {},
   "source": [
    "# Function fitting functions - SINGLE TEST (for predictions)"
   ]
  },
  {
   "cell_type": "code",
   "execution_count": 98,
   "id": "3d1f63ec",
   "metadata": {},
   "outputs": [],
   "source": [
    "# define the linear function to fit\n",
    "def lin_func(x, a, b):\n",
    "    return a*x + b\n",
    "\n",
    "\n",
    "# fit data to linear curve for one test\n",
    "def fit_lin(test):\n",
    "    y = test.P4\n",
    "\n",
    "    start_time = 0.2\n",
    "    end_time = 0.2*len(y)\n",
    "    num_steps = round((end_time - start_time)/0.2) + 1\n",
    "\n",
    "    x = np.linspace(start_time, end_time, num_steps)\n",
    "\n",
    "    # perform the curve fit\n",
    "    popt, _ = curve_fit(lin_func, x, y)\n",
    "    y_fit = lin_func(x, *popt) # unpacks tuple into the 2 coefficients rather than passing an array\n",
    "\n",
    "    return x, y, y_fit, popt\n",
    "\n",
    "\n",
    "def compute_residuals(y, y_fit):\n",
    "    residuals = y - y_fit\n",
    "    \n",
    "    ss_res = np.sum(residuals**2)\n",
    "    ss_tot = np.sum((y - np.mean(y))**2)\n",
    "    r_squared = 1 - (ss_res / ss_tot)\n",
    "        \n",
    "    return r_squared"
   ]
  },
  {
   "cell_type": "markdown",
   "id": "ff543ef5",
   "metadata": {},
   "source": [
    "# Getting all R-squared values"
   ]
  },
  {
   "cell_type": "code",
   "execution_count": 97,
   "id": "92f9e530",
   "metadata": {},
   "outputs": [],
   "source": [
    "### fitting normal tests to polynomial/linear functions\n",
    "x_list = {'Normal': [], 'Ref bubble': []}\n",
    "y_list = {'Normal': [], 'Ref bubble': []}\n",
    "y_fit_list = {'Normal': [], 'Ref bubble': []}\n",
    "coef_list = {'Normal': [], 'Ref bubble': []}\n",
    "\n",
    "# extracting all test objects to list\n",
    "# why am i making a joint test_df just to split them up again? idk\n",
    "tests['Normal'] = test_df[test_df['Class'] == 0]['Test'].to_list() \n",
    "tests['Ref bubble'] = test_df[test_df['Class'] == 1]['Test'].to_list() \n",
    "\n",
    "for label in labels:\n",
    "    for idx, _ in enumerate(tests[label]):\n",
    "        x, y, y_fit, coef = fit_lin(idx, tests[label])\n",
    "        x_list[label].append(x)\n",
    "        y_list[label].append(y)\n",
    "        y_fit_list[label].append(y_fit)\n",
    "        coef_list[label].append(coef)\n",
    "    \n",
    "### computing R-squared values to evaluate fit\n",
    "rs_list = {'Normal': [], 'Ref bubble': []}\n",
    "\n",
    "for label in labels:\n",
    "    for y, y_fit in zip(y_list[label], y_fit_list[label]):\n",
    "        rs_list[label].append(compute_residuals(y, y_fit))\n",
    "    \n",
    "    rs_list[label].sort()"
   ]
  },
  {
   "cell_type": "code",
   "execution_count": 23,
   "id": "0814f56a",
   "metadata": {
    "collapsed": true
   },
   "outputs": [
    {
     "name": "stdout",
     "output_type": "stream",
     "text": [
      "R-squared: 0.0157\n",
      "R-squared: 0.0692\n",
      "R-squared: 0.0697\n",
      "R-squared: 0.1327\n",
      "R-squared: 0.1815\n",
      "R-squared: 0.3258\n",
      "R-squared: 0.3336\n",
      "R-squared: 0.6126\n",
      "R-squared: 0.6305\n",
      "R-squared: 0.6924\n",
      "R-squared: 0.7142\n",
      "R-squared: 0.7400\n",
      "R-squared: 0.7740\n",
      "R-squared: 0.8299\n",
      "R-squared: 0.8543\n",
      "R-squared: 0.8557\n",
      "R-squared: 0.8744\n",
      "R-squared: 0.8987\n",
      "R-squared: 0.9214\n",
      "R-squared: 0.9386\n",
      "R-squared: 0.9498\n",
      "R-squared: 0.9534\n",
      "R-squared: 0.9587\n",
      "R-squared: 0.9592\n",
      "R-squared: 0.9632\n",
      "R-squared: 0.9655\n",
      "R-squared: 0.9679\n",
      "R-squared: 0.9700\n",
      "R-squared: 0.9714\n",
      "R-squared: 0.9740\n",
      "R-squared: 0.9794\n",
      "R-squared: 0.9800\n",
      "R-squared: 0.9878\n",
      "R-squared: 0.9883\n",
      "R-squared: 0.9892\n",
      "R-squared: 0.9949\n",
      "R-squared: 0.9959\n"
     ]
    }
   ],
   "source": [
    "for r_squared in rs_list['Ref bubble']:\n",
    "    print(f\"R-squared: {r_squared:.4f}\")"
   ]
  },
  {
   "cell_type": "code",
   "execution_count": 17,
   "id": "8c7ddcad",
   "metadata": {},
   "outputs": [
    {
     "data": {
      "image/png": "[encoded data removed]",
      "text/plain": [
       "<Figure size 1200x500 with 2 Axes>"
      ]
     },
     "metadata": {},
     "output_type": "display_data"
    }
   ],
   "source": [
    "\"\"\"# plotting distribution of R-squared\n",
    "fig, axs = plt.subplots(nrows=1, ncols=2, figsize=(12, 5))\n",
    "axs[0].hist(rs_list['Normal'], bins='auto', edgecolor='black')\n",
    "axs[1].hist(rs_list['Ref bubble'], bins='auto', edgecolor='black')\n",
    "\n",
    "# normal\n",
    "axs[0].set_xlabel('Values')\n",
    "axs[0].set_ylabel('Frequency')\n",
    "axs[0].set_title('Distribution of R-squared (n_ambiguous)')\n",
    "\n",
    "# ref failure\n",
    "axs[1].set_xlabel('Values')\n",
    "axs[1].set_ylabel('Frequency')\n",
    "axs[1].set_title('Distribution of R-squared (rf_ambiguous)')\n",
    "\n",
    "# show the plot\n",
    "plt.show()\"\"\""
   ]
  },
  {
   "cell_type": "markdown",
   "id": "ab58ed0e",
   "metadata": {},
   "source": [
    "# For the following two blocks, only run once"
   ]
  },
  {
   "cell_type": "code",
   "execution_count": 18,
   "id": "758bf4d3",
   "metadata": {},
   "outputs": [
    {
     "name": "stdout",
     "output_type": "stream",
     "text": [
      "0.9994838406575157\n",
      "0.9213536783468436\n"
     ]
    }
   ],
   "source": [
    "# calculating medians and MADS\n",
    "n_median = np.median(rs_list['Normal'])\n",
    "rb_median = np.median(rs_list['Ref bubble'])\n",
    "\n",
    "# only used for visualizing distribution\n",
    "# n_MAD = np.median(np.abs(rs_list['Normal'] - n_median))\n",
    "# rb_MAD = np.median(np.abs(rs_list['Ref bubble'] - rb_median))\n",
    "\n",
    "print(n_median)\n",
    "print(rb_median)"
   ]
  },
  {
   "cell_type": "code",
   "execution_count": 63,
   "id": "3e51faf9",
   "metadata": {},
   "outputs": [
    {
     "name": "stdout",
     "output_type": "stream",
     "text": [
      "Range = [0.979945, 0.989249], width = 0.009304\n",
      "Range = [0.979945, 0.989249], width = 0.009304\n",
      "Range = [0.981740, 0.989249], width = 0.007509\n",
      "Range = [0.986364, 0.989249], width = 0.002885\n",
      "Range = [0.986558, 0.995385], width = 0.008826\n",
      "Range = [0.990151, 0.995385], width = 0.005234\n",
      "Range = [0.993149, 0.995887], width = 0.002737\n"
     ]
    }
   ],
   "source": [
    "# testing effects of moving the soft threshold\n",
    "test_threshold = [0.9800, 0.9825, 0.9850, 0.9875, 0.9900, 0.9925, 0.9950] # min normal = 0.9800, max ref bubble = 0.9960\n",
    "results = {'Normal': [], 'Ref bubble': []}\n",
    "bounds = {'Normal': [], 'Ref bubble': []} # lower bound for normal, upper bound for ref bubble\n",
    "\n",
    "for threshold in test_threshold:\n",
    "    # normal\n",
    "    n_dist_med = []\n",
    "    for rs in rs_list['Normal']:\n",
    "        if rs < threshold:\n",
    "            n_dist_med.append(n_median - rs)\n",
    "            \n",
    "    median_n_dist_med = np.median(n_dist_med)\n",
    "    results['Normal'].append(median_n_dist_med)\n",
    "    bounds['Normal'].append(n_median - median_n_dist_med)\n",
    "    \n",
    "    # ref bubble\n",
    "    rb_dist_med = []\n",
    "    for rs in rs_list['Ref bubble']:\n",
    "        if rs >= threshold:\n",
    "            rb_dist_med.append(rs - rb_median)\n",
    "            \n",
    "    median_rb_dist_med = np.median(rb_dist_med)\n",
    "    results['Ref bubble'].append(median_rb_dist_med)\n",
    "    bounds['Ref bubble'].append(rb_median + median_rb_dist_med)\n",
    "    \n",
    "for lower, upper in zip(bounds['Normal'], bounds['Ref bubble']):\n",
    "    print(f\"Range = [{lower:.6f}, {upper:.6f}], width = {(upper - lower):.6f}\")"
   ]
  },
  {
   "cell_type": "markdown",
   "id": "e62f56be",
   "metadata": {},
   "source": [
    "# Predictions and evaluation"
   ]
  },
  {
   "cell_type": "code",
   "execution_count": 99,
   "id": "8ada9054",
   "metadata": {},
   "outputs": [
    {
     "name": "stdout",
     "output_type": "stream",
     "text": [
      "8\n",
      "4\n"
     ]
    }
   ],
   "source": [
    "\"\"\"\n",
    "- tempted to take the range with the smallest width, but the second smallest width actually contains the original threshold,\n",
    "so i'm hoping the classification accuracy would be similar but i will compare both\n",
    "\"\"\"\n",
    "# lists to store R-squared values that fall in ambiguous region\n",
    "n_ambiguous = []\n",
    "rb_ambiguous = []\n",
    "\n",
    "# upper and lower bounds from above\n",
    "upper = 0.989249\n",
    "lower = 0.979945\n",
    "\n",
    "for idx, test in enumerate(test_df['Test']):\n",
    "    # fit to linear function\n",
    "    x, y, y_fit, popt = fit_lin(test)\n",
    "\n",
    "    # compute R-squared value\n",
    "    r_squared = compute_residuals(y, y_fit)\n",
    "    \n",
    "    \"\"\"# hard threshold\n",
    "    if r_squared >= 0.9800:\n",
    "        test_df.loc[idx, 'Predicted'] = 0 # normal\n",
    "    else:\n",
    "        test_df.loc[idx, 'Predicted'] = 1 # ref bubble\"\"\"\n",
    "    \n",
    "    # soft threshold?\n",
    "    if r_squared > upper: # upper bound\n",
    "        test_df.loc[idx, 'Predicted'] = 0 # normal\n",
    "        # print(f\"Class: {test_df.loc[idx, 'Class']}, R-squared: {r_squared}, Predicted: 0\")\n",
    "    elif r_squared < lower: # lower bound\n",
    "        test_df.loc[idx, 'Predicted'] = 1 # ref bubble\n",
    "        # print(f\"Class: {test_df.loc[idx, 'Class']}, R-squared: {r_squared}, Predicted: 1\")\n",
    "    else: # in between\n",
    "        test_df.loc[idx, 'Predicted'] = -1 # ambiguous\n",
    "        \n",
    "        if test_df.loc[idx, 'Class'] == 0:\n",
    "            n_ambiguous.append(r_squared)\n",
    "        elif test_df.loc[idx, 'Class'] == 1:\n",
    "            rb_ambiguous.append(r_squared)\n",
    "        \n",
    "        # print(f\"Class: {test_df.loc[idx, 'Class']}, R-squared: {r_squared:.4f}, Predicted: -1\")\n",
    "        \n",
    "test_df['Predicted'] = test_df['Predicted'].astype(np.int32)\n",
    "\n",
    "print(len(n_ambiguous))\n",
    "print(len(rb_ambiguous))"
   ]
  },
  {
   "cell_type": "code",
   "execution_count": 100,
   "id": "3da4882b",
   "metadata": {},
   "outputs": [
    {
     "data": {
      "image/png": "[encoded data removed]",
      "text/plain": [
       "<Figure size 1200x500 with 2 Axes>"
      ]
     },
     "metadata": {},
     "output_type": "display_data"
    }
   ],
   "source": [
    "# plotting distribution of ambiguous R-squared\n",
    "fig, axs = plt.subplots(nrows=1, ncols=2, figsize=(12, 5))\n",
    "\n",
    "edges = np.linspace(lower, upper, 10)\n",
    "\n",
    "axs[0].hist(n_ambiguous, bins=edges, edgecolor='black')\n",
    "axs[1].hist(rb_ambiguous, bins=edges, edgecolor='black')\n",
    "\n",
    "# normal\n",
    "axs[0].set_xlabel('Values')\n",
    "axs[0].set_ylabel('Frequency')\n",
    "axs[0].set_title('Distribution of R-squared (n_ambiguous)')\n",
    "\n",
    "# ref failure\n",
    "axs[1].set_xlabel('Values')\n",
    "axs[1].set_ylabel('Frequency')\n",
    "axs[1].set_title('Distribution of R-squared (rf_ambiguous)')\n",
    "\n",
    "# show the plot\n",
    "plt.show()"
   ]
  },
  {
   "cell_type": "code",
   "execution_count": 101,
   "id": "d9b08350",
   "metadata": {},
   "outputs": [
    {
     "name": "stdout",
     "output_type": "stream",
     "text": [
      "1955\n",
      "1943\n"
     ]
    }
   ],
   "source": [
    "# removing ambiguous tests to calculate accuracy of non-ambiguous tests\n",
    "print(len(test_df))\n",
    "\n",
    "mask = test_df['Predicted'] == -1\n",
    "test_df.drop(index=test_df[mask].index, inplace=True)\n",
    "test_df.reset_index(drop=True, inplace=True)\n",
    "\n",
    "print(len(test_df))"
   ]
  },
  {
   "cell_type": "code",
   "execution_count": 102,
   "id": "aef60301",
   "metadata": {},
   "outputs": [
    {
     "name": "stdout",
     "output_type": "stream",
     "text": [
      "1910\n",
      "0\n",
      "2\n",
      "31\n",
      "              precision    recall  f1-score   support\n",
      "\n",
      "      Normal       1.00      1.00      1.00      1910\n",
      "  Ref bubble       1.00      0.94      0.97        33\n",
      "\n",
      "    accuracy                           1.00      1943\n",
      "   macro avg       1.00      0.97      0.98      1943\n",
      "weighted avg       1.00      1.00      1.00      1943\n",
      "\n"
     ]
    }
   ],
   "source": [
    "from sklearn.metrics import confusion_matrix, classification_report\n",
    "tn, fp, fn, tp = confusion_matrix(test_df['Class'], test_df['Predicted']).ravel()\n",
    "\n",
    "print(tn)\n",
    "print(fp)\n",
    "print(fn)\n",
    "print(tp)\n",
    "\n",
    "print(classification_report(test_df['Class'], test_df['Predicted'], target_names=labels))"
   ]
  },
  {
   "cell_type": "code",
   "execution_count": null,
   "id": "290b08c3",
   "metadata": {},
   "outputs": [],
   "source": []
  }
 ],
 "metadata": {
  "kernelspec": {
   "display_name": "Python 3 (ipykernel)",
   "language": "python",
   "name": "python3"
  },
  "language_info": {
   "codemirror_mode": {
    "name": "ipython",
    "version": 3
   },
   "file_extension": ".py",
   "mimetype": "text/x-python",
   "name": "python",
   "nbconvert_exporter": "python",
   "pygments_lexer": "ipython3",
   "version": "3.9.13"
  }
 },
 "nbformat": 4,
 "nbformat_minor": 5
}
